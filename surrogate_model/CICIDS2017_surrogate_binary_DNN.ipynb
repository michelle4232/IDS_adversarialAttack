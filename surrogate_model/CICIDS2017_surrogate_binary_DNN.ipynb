{
 "cells": [
  {
   "cell_type": "code",
   "execution_count": 1,
   "metadata": {},
   "outputs": [
    {
     "data": {
      "text/plain": [
       "'\\nBuild a suggorate model for the data\\nthere is a DNN models that want to build\\nif there are 3 dataset, then there are 3 models after training\\nExample Code : https://www.youtube.com/watch?v=Jy4wM2X21u0&list=PLhhyoLH6IjfxeoooqP9rhU3HJIAVAJ3Vz&index=3\\n'"
      ]
     },
     "execution_count": 1,
     "metadata": {},
     "output_type": "execute_result"
    }
   ],
   "source": [
    "'''\n",
    "Build a suggorate model for the data\n",
    "there is a DNN models that want to build\n",
    "if there are 3 dataset, then there are 3 models after training\n",
    "Example Code : https://www.youtube.com/watch?v=Jy4wM2X21u0&list=PLhhyoLH6IjfxeoooqP9rhU3HJIAVAJ3Vz&index=3\n",
    "'''"
   ]
  },
  {
   "cell_type": "code",
   "execution_count": 2,
   "metadata": {},
   "outputs": [],
   "source": [
    "# load csv file and print the first 5 rows\n",
    "import pandas as pd\n",
    "import numpy as np\n",
    "import torch\n",
    "from torch import nn\n",
    "from torch.utils.data import DataLoader\n",
    "from torchvision import datasets\n",
    "from torchvision.transforms import ToTensor"
   ]
  },
  {
   "cell_type": "code",
   "execution_count": 3,
   "metadata": {},
   "outputs": [],
   "source": [
    "# Load data and do train test split\n",
    "from sklearn.model_selection import KFold, cross_val_score, train_test_split\n",
    "\n",
    "\n",
    "def load_data(filename, trainLabel, data_ml):\n",
    "    # Load the data\n",
    "    df = pd.read_csv(filename)\n",
    "    \n",
    "    X_predicted = df.drop(columns=['Label', trainLabel], axis=1)\n",
    "    y_predicted = df[trainLabel]\n",
    "\n",
    "    # Initial train test split set\n",
    "    X_train_predicted, X_test_predicted, y_train_predicted, y_test_predicted = train_test_split(X_predicted, y_predicted, test_size=0.2, random_state=42, stratify=y_predicted)\n",
    "\n",
    "    # Further split training set into training (70%) and validation (10%) sets\n",
    "    X_train_predicted, X_val_predicted, y_train_predicted, y_val_predicted = train_test_split(X_train_predicted, y_train_predicted, test_size=0.1, random_state=42, stratify=y_train_predicted)\n",
    "    \n",
    "    # save datasets\n",
    "    train_predicted = pd.concat([X_train_predicted, y_train_predicted], axis=1)\n",
    "    val_predicted = pd.concat([X_val_predicted, y_val_predicted], axis=1)\n",
    "    test_predicted = pd.concat([X_test_predicted, y_test_predicted], axis=1)\n",
    "    train_predicted.to_csv(f'../datasets/surrogate_model/CICIDS2017/split_dataset/train_{data_ml}_predicted.csv', index=False) \n",
    "    val_predicted.to_csv(f'../datasets/surrogate_model/CICIDS2017/split_dataset/val_lr_{data_ml}_predicted.csv', index=False)\n",
    "    test_predicted.to_csv(f'../datasets/surrogate_model/CICIDS2017/split_dataset/test_lr_{data_ml}_predicted.csv', index=False)\n",
    "    \n",
    "    return X_train_predicted, X_val_predicted, X_test_predicted, y_train_predicted, y_val_predicted, y_test_predicted"
   ]
  },
  {
   "cell_type": "code",
   "execution_count": 4,
   "metadata": {},
   "outputs": [],
   "source": [
    "from matplotlib import pyplot as plt\n",
    "import seaborn as sns\n",
    "import pandas as pd\n",
    "\n",
    "def draw_plot(accuracy_stats, loss_stats):\n",
    "    # print(\"acc: \", accuracy_stats)\n",
    "    # print(\"loss: \", loss_stats)\n",
    "    # Create dataframes\n",
    "    train_val_acc_df = pd.DataFrame.from_dict(accuracy_stats).reset_index().melt(id_vars=['index']).rename(columns={\"index\":\"epochs\"})\n",
    "    train_val_loss_df = pd.DataFrame.from_dict(loss_stats).reset_index().melt(id_vars=['index']).rename(columns={\"index\":\"epochs\"})\n",
    "\n",
    "    print(train_val_acc_df)\n",
    "    print(train_val_loss_df)\n",
    "    # modify column names\n",
    "    train_val_acc_df.columns = ['epochs', 'status', 'accuracy']\n",
    "    train_val_loss_df.columns = ['epochs', 'status', 'loss']\n",
    "    # Plot the dataframes\n",
    "    fig, axes = plt.subplots(nrows=1, ncols=2, figsize=(20,7))\n",
    "    sns.lineplot(data=train_val_acc_df, x = \"epochs\", y=\"accuracy\", hue=\"status\",  ax=axes[0]).set_title('Train-Val Accuracy/Epoch')\n",
    "    sns.lineplot(data=train_val_loss_df, x = \"epochs\", y=\"loss\", hue=\"status\", ax=axes[1]).set_title('Train-Val Loss/Epoch')\n"
   ]
  },
  {
   "cell_type": "code",
   "execution_count": 19,
   "metadata": {},
   "outputs": [],
   "source": [
    "from sklearn.metrics import confusion_matrix\n",
    "\n",
    "# draw confusion matrix\n",
    "def draw_confusion_matrix(y_test, y_pred, model, model_name, dataset_resource):\n",
    "    cm = confusion_matrix(y_test, y_pred)\n",
    "    total = np.sum(cm)\n",
    "    confusion_percentage = (cm  / total) * 100\n",
    "\n",
    "    strings = np.asarray([['%', '%'],\n",
    "                        ['%', '%']])\n",
    "    labels = (np.asarray([\"{1:.2f} %\".format(string, confusion_percentage) for string, confusion_percentage in zip(strings.flatten(), confusion_percentage.flatten())])).reshape(2, 2)\n",
    "    plt.figure(figsize=(8,5))\n",
    "    sns.heatmap(confusion_percentage, annot=labels, fmt='', cmap=plt.cm.Blues, linewidths=1, xticklabels=['Benign', 'Malicious'], yticklabels=['Benign', 'Malicious'], annot_kws={\"size\": 10})\n",
    "    plt.xlabel('Predicted Label', fontsize=12)\n",
    "    plt.ylabel('True Label', fontsize=12)\n",
    "    plt.title(f'Confusion Matrix of {model_name} Surrogate Model', fontsize=15)\n",
    "    # add accuracy\n",
    "    accuracy = np.trace(cm) / float(np.sum(cm))\n",
    "    misclass = 1 - accuracy\n",
    "    plt.text(0.5, 2.5, f'Dataset from: {dataset_resource}', dict(size=12))\n",
    "    \n",
    "    plt.show()"
   ]
  },
  {
   "cell_type": "code",
   "execution_count": 6,
   "metadata": {},
   "outputs": [],
   "source": [
    "# Load data and do train test split\n",
    "X_train_lr_predicted, X_val_lr_predicted, X_test_lr_predicted, y_train_lr_predicted, y_val_lr_predicted, y_test_lr_predicted = load_data('../surrogate_model/data_for_training/df_lr_predicted_0313.csv', 'LR_Predicted', 'lr')\n",
    "X_train_dt_predicted, X_val_dt_predicted, X_test_dt_predicted, y_train_dt_predicted, y_val_dt_predicted, y_test_dt_predicted = load_data('../surrogate_model/data_for_training/df_dt_predicted_0313.csv', 'DT_Predicted', 'dt')\n",
    "X_train_xgb_predicted, X_val_xgb_predicted, X_test_xgb_predicted, y_train_xgb_predicted, y_val_xgb_predicted, y_test_xgb_predicted = load_data('../surrogate_model/data_for_training/df_xgb_predicted_0313.csv', 'XGB_Predicted', 'dt')\n",
    "X_train_dnn_predicted, X_val_dnn_predicted, X_test_dnn_predicted, y_train_dnn_predicted, y_val_dnn_predicted, y_test_dnn_predicted = load_data('../surrogate_model/data_for_training/df_dnn_predicted_0313.csv', 'DNN_Predicted', 'dnn')"
   ]
  },
  {
   "cell_type": "code",
   "execution_count": 7,
   "metadata": {},
   "outputs": [],
   "source": [
    "## create dataloaders by myself\n",
    "from torch.utils.data import Dataset, DataLoader, WeightedRandomSampler\n",
    "\n",
    "class ClassifierDataset(Dataset):\n",
    "    \n",
    "    def __init__(self, X_data, y_data):\n",
    "        self.X_data = X_data\n",
    "        self.y_data = y_data\n",
    "        \n",
    "    def __getitem__(self, index):\n",
    "        return self.X_data[index], self.y_data[index]\n",
    "        \n",
    "    def __len__ (self):\n",
    "        return len(self.X_data)\n",
    "\n",
    "\n",
    "train_dataset = ClassifierDataset(torch.tensor(np.array(X_train_dt_predicted)).float(), torch.tensor(np.array(y_train_dt_predicted)).long())\n",
    "val_dataset = ClassifierDataset(torch.tensor(np.array(X_val_dt_predicted)).float(), torch.tensor(np.array(y_val_dt_predicted)).long())\n",
    "test_dataset = ClassifierDataset(torch.tensor(np.array(X_test_dt_predicted)).float(), torch.tensor(np.array(y_test_dt_predicted)).long())"
   ]
  },
  {
   "cell_type": "code",
   "execution_count": 8,
   "metadata": {},
   "outputs": [],
   "source": [
    "# Hyperparameters\n",
    "input_size = len(X_train_xgb_predicted.columns) # 42\n",
    "num_classes = 2\n",
    "learning_rate = 0.001\n",
    "batch_size = 64\n",
    "num_epochs = 50"
   ]
  },
  {
   "cell_type": "code",
   "execution_count": 9,
   "metadata": {},
   "outputs": [],
   "source": [
    "train_loader = DataLoader(dataset=train_dataset,\n",
    "                          batch_size=batch_size,\n",
    "                          drop_last=True\n",
    ")\n",
    "val_loader = DataLoader(dataset=val_dataset, batch_size=1,drop_last=True)\n",
    "test_loader = DataLoader(dataset=test_dataset, batch_size=1,drop_last=True)"
   ]
  },
  {
   "cell_type": "code",
   "execution_count": 10,
   "metadata": {},
   "outputs": [
    {
     "name": "stdout",
     "output_type": "stream",
     "text": [
      "Begin training.\n"
     ]
    },
    {
     "name": "stderr",
     "output_type": "stream",
     "text": [
      "100%|██████████| 1354/1354 [00:02<00:00, 622.83it/s]\n"
     ]
    },
    {
     "name": "stdout",
     "output_type": "stream",
     "text": [
      "Epoch 1: | Train Loss: 0.38025 | Val Loss: 0.32623 | Train Acc: 0.8662| Val Acc: 0.8843\n"
     ]
    },
    {
     "name": "stderr",
     "output_type": "stream",
     "text": [
      "100%|██████████| 1354/1354 [00:02<00:00, 621.53it/s]\n"
     ]
    },
    {
     "name": "stdout",
     "output_type": "stream",
     "text": [
      "Epoch 2: | Train Loss: 0.34659 | Val Loss: 0.31312 | Train Acc: 0.8864| Val Acc: 0.8955\n"
     ]
    },
    {
     "name": "stderr",
     "output_type": "stream",
     "text": [
      "100%|██████████| 1354/1354 [00:02<00:00, 616.96it/s]\n"
     ]
    },
    {
     "name": "stdout",
     "output_type": "stream",
     "text": [
      "Epoch 3: | Train Loss: 0.33932 | Val Loss: 0.30629 | Train Acc: 0.8889| Val Acc: 0.8983\n"
     ]
    },
    {
     "name": "stderr",
     "output_type": "stream",
     "text": [
      "100%|██████████| 1354/1354 [00:02<00:00, 611.42it/s]\n"
     ]
    },
    {
     "name": "stdout",
     "output_type": "stream",
     "text": [
      "Epoch 4: | Train Loss: 0.33361 | Val Loss: 0.30249 | Train Acc: 0.8906| Val Acc: 0.9012\n"
     ]
    },
    {
     "name": "stderr",
     "output_type": "stream",
     "text": [
      "100%|██████████| 1354/1354 [00:02<00:00, 626.13it/s]\n"
     ]
    },
    {
     "name": "stdout",
     "output_type": "stream",
     "text": [
      "Epoch 5: | Train Loss: 0.32620 | Val Loss: 0.29343 | Train Acc: 0.8931| Val Acc: 0.9011\n"
     ]
    },
    {
     "name": "stderr",
     "output_type": "stream",
     "text": [
      "100%|██████████| 1354/1354 [00:02<00:00, 638.54it/s]\n"
     ]
    },
    {
     "name": "stdout",
     "output_type": "stream",
     "text": [
      "Epoch 6: | Train Loss: 0.31989 | Val Loss: 0.29157 | Train Acc: 0.8949| Val Acc: 0.9017\n"
     ]
    },
    {
     "name": "stderr",
     "output_type": "stream",
     "text": [
      "100%|██████████| 1354/1354 [00:02<00:00, 636.27it/s]\n"
     ]
    },
    {
     "name": "stdout",
     "output_type": "stream",
     "text": [
      "Epoch 7: | Train Loss: 0.31483 | Val Loss: 0.28255 | Train Acc: 0.8966| Val Acc: 0.9013\n"
     ]
    },
    {
     "name": "stderr",
     "output_type": "stream",
     "text": [
      "100%|██████████| 1354/1354 [00:02<00:00, 619.72it/s]\n"
     ]
    },
    {
     "name": "stdout",
     "output_type": "stream",
     "text": [
      "Epoch 8: | Train Loss: 0.30918 | Val Loss: 0.28098 | Train Acc: 0.8973| Val Acc: 0.9014\n"
     ]
    },
    {
     "name": "stderr",
     "output_type": "stream",
     "text": [
      "100%|██████████| 1354/1354 [00:02<00:00, 617.64it/s]\n"
     ]
    },
    {
     "name": "stdout",
     "output_type": "stream",
     "text": [
      "Epoch 9: | Train Loss: 0.30148 | Val Loss: 0.27161 | Train Acc: 0.8990| Val Acc: 0.9045\n"
     ]
    },
    {
     "name": "stderr",
     "output_type": "stream",
     "text": [
      "100%|██████████| 1354/1354 [00:02<00:00, 629.54it/s]\n"
     ]
    },
    {
     "name": "stdout",
     "output_type": "stream",
     "text": [
      "Epoch 10: | Train Loss: 0.29768 | Val Loss: 0.27031 | Train Acc: 0.9010| Val Acc: 0.9029\n"
     ]
    },
    {
     "name": "stderr",
     "output_type": "stream",
     "text": [
      "100%|██████████| 1354/1354 [00:02<00:00, 621.82it/s]\n"
     ]
    },
    {
     "name": "stdout",
     "output_type": "stream",
     "text": [
      "Epoch 11: | Train Loss: 0.29923 | Val Loss: 0.26168 | Train Acc: 0.9010| Val Acc: 0.9053\n"
     ]
    },
    {
     "name": "stderr",
     "output_type": "stream",
     "text": [
      "100%|██████████| 1354/1354 [00:02<00:00, 585.25it/s]\n"
     ]
    },
    {
     "name": "stdout",
     "output_type": "stream",
     "text": [
      "Epoch 12: | Train Loss: 0.28859 | Val Loss: 0.25793 | Train Acc: 0.9036| Val Acc: 0.9077\n"
     ]
    },
    {
     "name": "stderr",
     "output_type": "stream",
     "text": [
      "100%|██████████| 1354/1354 [00:02<00:00, 610.60it/s]\n"
     ]
    },
    {
     "name": "stdout",
     "output_type": "stream",
     "text": [
      "Epoch 13: | Train Loss: 0.28767 | Val Loss: 0.25150 | Train Acc: 0.9039| Val Acc: 0.9079\n"
     ]
    },
    {
     "name": "stderr",
     "output_type": "stream",
     "text": [
      "100%|██████████| 1354/1354 [00:02<00:00, 601.37it/s]\n"
     ]
    },
    {
     "name": "stdout",
     "output_type": "stream",
     "text": [
      "Epoch 14: | Train Loss: 0.28674 | Val Loss: 0.25021 | Train Acc: 0.9053| Val Acc: 0.9080\n"
     ]
    },
    {
     "name": "stderr",
     "output_type": "stream",
     "text": [
      "100%|██████████| 1354/1354 [00:02<00:00, 612.08it/s]\n"
     ]
    },
    {
     "name": "stdout",
     "output_type": "stream",
     "text": [
      "Epoch 15: | Train Loss: 0.28289 | Val Loss: 0.24218 | Train Acc: 0.9066| Val Acc: 0.9077\n"
     ]
    },
    {
     "name": "stderr",
     "output_type": "stream",
     "text": [
      "100%|██████████| 1354/1354 [00:02<00:00, 600.17it/s]\n"
     ]
    },
    {
     "name": "stdout",
     "output_type": "stream",
     "text": [
      "Epoch 16: | Train Loss: 0.27617 | Val Loss: 0.24547 | Train Acc: 0.9090| Val Acc: 0.9095\n"
     ]
    },
    {
     "name": "stderr",
     "output_type": "stream",
     "text": [
      "100%|██████████| 1354/1354 [00:02<00:00, 566.76it/s]\n"
     ]
    },
    {
     "name": "stdout",
     "output_type": "stream",
     "text": [
      "Epoch 17: | Train Loss: 0.27356 | Val Loss: 0.22943 | Train Acc: 0.9101| Val Acc: 0.9121\n"
     ]
    },
    {
     "name": "stderr",
     "output_type": "stream",
     "text": [
      "100%|██████████| 1354/1354 [00:02<00:00, 602.52it/s]\n"
     ]
    },
    {
     "name": "stdout",
     "output_type": "stream",
     "text": [
      "Epoch 18: | Train Loss: 0.26500 | Val Loss: 0.22447 | Train Acc: 0.9133| Val Acc: 0.9127\n"
     ]
    },
    {
     "name": "stderr",
     "output_type": "stream",
     "text": [
      "100%|██████████| 1354/1354 [00:02<00:00, 597.09it/s]\n"
     ]
    },
    {
     "name": "stdout",
     "output_type": "stream",
     "text": [
      "Epoch 19: | Train Loss: 0.26065 | Val Loss: 0.23153 | Train Acc: 0.9143| Val Acc: 0.9153\n"
     ]
    },
    {
     "name": "stderr",
     "output_type": "stream",
     "text": [
      "100%|██████████| 1354/1354 [00:02<00:00, 604.33it/s]\n"
     ]
    },
    {
     "name": "stdout",
     "output_type": "stream",
     "text": [
      "Epoch 20: | Train Loss: 0.26117 | Val Loss: 0.22498 | Train Acc: 0.9144| Val Acc: 0.9134\n"
     ]
    },
    {
     "name": "stderr",
     "output_type": "stream",
     "text": [
      "100%|██████████| 1354/1354 [00:02<00:00, 540.32it/s]\n"
     ]
    },
    {
     "name": "stdout",
     "output_type": "stream",
     "text": [
      "Epoch 21: | Train Loss: 0.27958 | Val Loss: 0.24915 | Train Acc: 0.9121| Val Acc: 0.9122\n"
     ]
    },
    {
     "name": "stderr",
     "output_type": "stream",
     "text": [
      "100%|██████████| 1354/1354 [00:02<00:00, 608.81it/s]\n"
     ]
    },
    {
     "name": "stdout",
     "output_type": "stream",
     "text": [
      "Epoch 22: | Train Loss: 0.26774 | Val Loss: 0.22117 | Train Acc: 0.9149| Val Acc: 0.9156\n"
     ]
    },
    {
     "name": "stderr",
     "output_type": "stream",
     "text": [
      "100%|██████████| 1354/1354 [00:02<00:00, 621.81it/s]\n"
     ]
    },
    {
     "name": "stdout",
     "output_type": "stream",
     "text": [
      "Epoch 23: | Train Loss: 0.25727 | Val Loss: 0.21675 | Train Acc: 0.9165| Val Acc: 0.9155\n"
     ]
    },
    {
     "name": "stderr",
     "output_type": "stream",
     "text": [
      "100%|██████████| 1354/1354 [00:02<00:00, 620.23it/s]\n"
     ]
    },
    {
     "name": "stdout",
     "output_type": "stream",
     "text": [
      "Epoch 24: | Train Loss: 0.25096 | Val Loss: 0.21743 | Train Acc: 0.9185| Val Acc: 0.9184\n"
     ]
    },
    {
     "name": "stderr",
     "output_type": "stream",
     "text": [
      "100%|██████████| 1354/1354 [00:02<00:00, 610.34it/s]\n"
     ]
    },
    {
     "name": "stdout",
     "output_type": "stream",
     "text": [
      "Epoch 25: | Train Loss: 0.24653 | Val Loss: 0.20758 | Train Acc: 0.9198| Val Acc: 0.9186\n"
     ]
    },
    {
     "name": "stderr",
     "output_type": "stream",
     "text": [
      "100%|██████████| 1354/1354 [00:02<00:00, 620.21it/s]\n"
     ]
    },
    {
     "name": "stdout",
     "output_type": "stream",
     "text": [
      "Epoch 26: | Train Loss: 0.25103 | Val Loss: 0.20185 | Train Acc: 0.9201| Val Acc: 0.9209\n"
     ]
    },
    {
     "name": "stderr",
     "output_type": "stream",
     "text": [
      "100%|██████████| 1354/1354 [00:02<00:00, 621.10it/s]\n"
     ]
    },
    {
     "name": "stdout",
     "output_type": "stream",
     "text": [
      "Epoch 27: | Train Loss: 0.24807 | Val Loss: 0.21243 | Train Acc: 0.9210| Val Acc: 0.9206\n"
     ]
    },
    {
     "name": "stderr",
     "output_type": "stream",
     "text": [
      "100%|██████████| 1354/1354 [00:02<00:00, 595.55it/s]\n"
     ]
    },
    {
     "name": "stdout",
     "output_type": "stream",
     "text": [
      "Epoch 28: | Train Loss: 0.24950 | Val Loss: 0.22720 | Train Acc: 0.9208| Val Acc: 0.9159\n"
     ]
    },
    {
     "name": "stderr",
     "output_type": "stream",
     "text": [
      "100%|██████████| 1354/1354 [00:02<00:00, 615.87it/s]\n"
     ]
    },
    {
     "name": "stdout",
     "output_type": "stream",
     "text": [
      "Epoch 29: | Train Loss: 0.24080 | Val Loss: 0.19515 | Train Acc: 0.9228| Val Acc: 0.9247\n"
     ]
    },
    {
     "name": "stderr",
     "output_type": "stream",
     "text": [
      "100%|██████████| 1354/1354 [00:02<00:00, 618.69it/s]\n"
     ]
    },
    {
     "name": "stdout",
     "output_type": "stream",
     "text": [
      "Epoch 30: | Train Loss: 0.23877 | Val Loss: 0.20321 | Train Acc: 0.9232| Val Acc: 0.9227\n"
     ]
    },
    {
     "name": "stderr",
     "output_type": "stream",
     "text": [
      "100%|██████████| 1354/1354 [00:02<00:00, 625.26it/s]\n"
     ]
    },
    {
     "name": "stdout",
     "output_type": "stream",
     "text": [
      "Epoch 31: | Train Loss: 0.24075 | Val Loss: 0.18901 | Train Acc: 0.9233| Val Acc: 0.9274\n"
     ]
    },
    {
     "name": "stderr",
     "output_type": "stream",
     "text": [
      "100%|██████████| 1354/1354 [00:02<00:00, 619.82it/s]\n"
     ]
    },
    {
     "name": "stdout",
     "output_type": "stream",
     "text": [
      "Epoch 32: | Train Loss: 0.23236 | Val Loss: 0.19394 | Train Acc: 0.9266| Val Acc: 0.9265\n"
     ]
    },
    {
     "name": "stderr",
     "output_type": "stream",
     "text": [
      "100%|██████████| 1354/1354 [00:02<00:00, 621.39it/s]\n"
     ]
    },
    {
     "name": "stdout",
     "output_type": "stream",
     "text": [
      "Epoch 33: | Train Loss: 0.23503 | Val Loss: 0.19954 | Train Acc: 0.9264| Val Acc: 0.9256\n"
     ]
    },
    {
     "name": "stderr",
     "output_type": "stream",
     "text": [
      "100%|██████████| 1354/1354 [00:02<00:00, 621.53it/s]\n"
     ]
    },
    {
     "name": "stdout",
     "output_type": "stream",
     "text": [
      "Epoch 34: | Train Loss: 0.23411 | Val Loss: 0.18582 | Train Acc: 0.9258| Val Acc: 0.9283\n"
     ]
    },
    {
     "name": "stderr",
     "output_type": "stream",
     "text": [
      "100%|██████████| 1354/1354 [00:02<00:00, 626.56it/s]\n"
     ]
    },
    {
     "name": "stdout",
     "output_type": "stream",
     "text": [
      "Epoch 35: | Train Loss: 0.23157 | Val Loss: 0.18294 | Train Acc: 0.9276| Val Acc: 0.9317\n"
     ]
    },
    {
     "name": "stderr",
     "output_type": "stream",
     "text": [
      "100%|██████████| 1354/1354 [00:02<00:00, 624.46it/s]\n"
     ]
    },
    {
     "name": "stdout",
     "output_type": "stream",
     "text": [
      "Epoch 36: | Train Loss: 0.23492 | Val Loss: 0.18331 | Train Acc: 0.9274| Val Acc: 0.9297\n"
     ]
    },
    {
     "name": "stderr",
     "output_type": "stream",
     "text": [
      "100%|██████████| 1354/1354 [00:02<00:00, 607.03it/s]\n"
     ]
    },
    {
     "name": "stdout",
     "output_type": "stream",
     "text": [
      "Epoch 37: | Train Loss: 0.22911 | Val Loss: 0.19137 | Train Acc: 0.9282| Val Acc: 0.9270\n"
     ]
    },
    {
     "name": "stderr",
     "output_type": "stream",
     "text": [
      "100%|██████████| 1354/1354 [00:02<00:00, 614.76it/s]\n"
     ]
    },
    {
     "name": "stdout",
     "output_type": "stream",
     "text": [
      "Epoch 38: | Train Loss: 0.22955 | Val Loss: 0.19078 | Train Acc: 0.9277| Val Acc: 0.9337\n"
     ]
    },
    {
     "name": "stderr",
     "output_type": "stream",
     "text": [
      "100%|██████████| 1354/1354 [00:02<00:00, 620.96it/s]\n"
     ]
    },
    {
     "name": "stdout",
     "output_type": "stream",
     "text": [
      "Epoch 39: | Train Loss: 0.22731 | Val Loss: 0.17715 | Train Acc: 0.9288| Val Acc: 0.9402\n"
     ]
    },
    {
     "name": "stderr",
     "output_type": "stream",
     "text": [
      "100%|██████████| 1354/1354 [00:02<00:00, 626.71it/s]\n"
     ]
    },
    {
     "name": "stdout",
     "output_type": "stream",
     "text": [
      "Epoch 40: | Train Loss: 0.22262 | Val Loss: 0.17308 | Train Acc: 0.9302| Val Acc: 0.9464\n"
     ]
    },
    {
     "name": "stderr",
     "output_type": "stream",
     "text": [
      "100%|██████████| 1354/1354 [00:02<00:00, 626.71it/s]\n"
     ]
    },
    {
     "name": "stdout",
     "output_type": "stream",
     "text": [
      "Epoch 41: | Train Loss: 0.22628 | Val Loss: 0.20843 | Train Acc: 0.9306| Val Acc: 0.9315\n"
     ]
    },
    {
     "name": "stderr",
     "output_type": "stream",
     "text": [
      "100%|██████████| 1354/1354 [00:02<00:00, 617.00it/s]\n"
     ]
    },
    {
     "name": "stdout",
     "output_type": "stream",
     "text": [
      "Epoch 42: | Train Loss: 0.23943 | Val Loss: 0.17967 | Train Acc: 0.9284| Val Acc: 0.9389\n"
     ]
    },
    {
     "name": "stderr",
     "output_type": "stream",
     "text": [
      "100%|██████████| 1354/1354 [00:02<00:00, 615.03it/s]\n"
     ]
    },
    {
     "name": "stdout",
     "output_type": "stream",
     "text": [
      "Epoch 43: | Train Loss: 0.24191 | Val Loss: 0.20631 | Train Acc: 0.9284| Val Acc: 0.9238\n"
     ]
    },
    {
     "name": "stderr",
     "output_type": "stream",
     "text": [
      "100%|██████████| 1354/1354 [00:02<00:00, 628.40it/s]\n"
     ]
    },
    {
     "name": "stdout",
     "output_type": "stream",
     "text": [
      "Epoch 44: | Train Loss: 0.22508 | Val Loss: 0.17870 | Train Acc: 0.9305| Val Acc: 0.9362\n"
     ]
    },
    {
     "name": "stderr",
     "output_type": "stream",
     "text": [
      "100%|██████████| 1354/1354 [00:02<00:00, 627.30it/s]\n"
     ]
    },
    {
     "name": "stdout",
     "output_type": "stream",
     "text": [
      "Epoch 45: | Train Loss: 0.22226 | Val Loss: 0.19931 | Train Acc: 0.9307| Val Acc: 0.9326\n"
     ]
    },
    {
     "name": "stderr",
     "output_type": "stream",
     "text": [
      "100%|██████████| 1354/1354 [00:02<00:00, 630.08it/s]\n"
     ]
    },
    {
     "name": "stdout",
     "output_type": "stream",
     "text": [
      "Epoch 46: | Train Loss: 0.22722 | Val Loss: 0.18356 | Train Acc: 0.9302| Val Acc: 0.9355\n"
     ]
    },
    {
     "name": "stderr",
     "output_type": "stream",
     "text": [
      "100%|██████████| 1354/1354 [00:02<00:00, 620.61it/s]\n"
     ]
    },
    {
     "name": "stdout",
     "output_type": "stream",
     "text": [
      "Epoch 47: | Train Loss: 0.21680 | Val Loss: 0.18504 | Train Acc: 0.9326| Val Acc: 0.9362\n"
     ]
    },
    {
     "name": "stderr",
     "output_type": "stream",
     "text": [
      "100%|██████████| 1354/1354 [00:02<00:00, 630.80it/s]\n"
     ]
    },
    {
     "name": "stdout",
     "output_type": "stream",
     "text": [
      "Epoch 48: | Train Loss: 0.22147 | Val Loss: 0.17926 | Train Acc: 0.9308| Val Acc: 0.9389\n"
     ]
    },
    {
     "name": "stderr",
     "output_type": "stream",
     "text": [
      "100%|██████████| 1354/1354 [00:02<00:00, 621.25it/s]\n"
     ]
    },
    {
     "name": "stdout",
     "output_type": "stream",
     "text": [
      "Epoch 49: | Train Loss: 0.21916 | Val Loss: 0.17524 | Train Acc: 0.9316| Val Acc: 0.9420\n"
     ]
    },
    {
     "name": "stderr",
     "output_type": "stream",
     "text": [
      "100%|██████████| 1354/1354 [00:02<00:00, 615.32it/s]\n"
     ]
    },
    {
     "name": "stdout",
     "output_type": "stream",
     "text": [
      "Epoch 50: | Train Loss: 0.22180 | Val Loss: 0.17650 | Train Acc: 0.9319| Val Acc: 0.9434\n",
      "Accuracy on training set: 94.43\n",
      "Accuracy on test set: 94.51\n"
     ]
    }
   ],
   "source": [
    "# Imports\n",
    "import torch\n",
    "import torch.nn.functional as F  # Parameterless functions, like (some) activation functions\n",
    "import torchvision.datasets as datasets  # Standard datasets\n",
    "import torchvision.transforms as transforms  # Transformations we can perform on our dataset for augmentation\n",
    "from torch import optim  # For optimizers like SGD, Adam, etc.\n",
    "from torch import nn  # All neural network modules\n",
    "from torch.utils.data import (\n",
    "    DataLoader,\n",
    ")  # Gives easier dataset managment by creating mini batches etc.\n",
    "from tqdm import tqdm  # For nice progress bar!\n",
    "from datetime import datetime\n",
    "\n",
    "# Here we create our simple neural network. For more details here we are subclassing and\n",
    "# inheriting from nn.Module, this is the most general way to create your networks and\n",
    "# allows for more flexibility. I encourage you to also check out nn.Sequential which\n",
    "# would be easier to use in this scenario but I wanted to show you something that\n",
    "# \"always\" works and is a general approach.\n",
    "class DNN(nn.Module):\n",
    "    def __init__(self, input_size, num_classes):\n",
    "        \"\"\"\n",
    "        Here we define the layers of the network. We create two fully connected layers\n",
    "\n",
    "        Parameters:\n",
    "            input_size: the size of the input, in this case 784 (28x28)\n",
    "            num_classes: the number of classes we want to predict, in this case 10 (0-9)\n",
    "\n",
    "        \"\"\"\n",
    "        super(DNN, self).__init__()\n",
    "        # Our first linear layer take input_size, in this case 784 nodes to 50\n",
    "        # and our second linear layer takes 50 to the num_classes we have, in\n",
    "        # this case 10.\n",
    "        self.fc1 = nn.Linear(input_size, 128)\n",
    "        self.fc2 = nn.Linear(128, num_classes)\n",
    "        # self.fc3 = nn.Linear(128, num_classes)\n",
    "        self.dropout = nn.Dropout(p=0.5)\n",
    "        \n",
    "        self.relu = nn.ReLU()\n",
    "        self.act3 = nn.Softmax()\n",
    "        self.batchnorm1 = nn.BatchNorm1d(128)\n",
    "\n",
    "    def forward(self, x):\n",
    "        \"\"\"\n",
    "        x here is the mnist images and we run it through fc1, fc2 that we created above.\n",
    "        we also add a ReLU activation function in between and for that (since it has no parameters)\n",
    "        I recommend using nn.functional (F)\n",
    "\n",
    "        Parameters:\n",
    "            x: mnist images\n",
    "\n",
    "        Returns:\n",
    "            out: the output of the network\n",
    "        \"\"\"\n",
    "\n",
    "        #x = F.relu(self.fc1(x))\n",
    "        x = self.fc1(x)\n",
    "        x = self.batchnorm1(x)\n",
    "        x = self.relu(x)\n",
    "        x = self.dropout(x)\n",
    "        x = self.fc2(x)\n",
    "        return x\n",
    "\n",
    "\n",
    "# Set device cuda for GPU if it's available otherwise run on the CPU\n",
    "device = torch.device(\"cuda\" if torch.cuda.is_available() else \"cpu\")\n",
    "\n",
    "# Initialize network\n",
    "model = DNN(input_size=input_size, num_classes=num_classes).to(device)\n",
    "\n",
    "# Loss and optimizer\n",
    "criterion = nn.CrossEntropyLoss()\n",
    "optimizer = optim.Adam(model.parameters(), lr=learning_rate)\n",
    "\n",
    "# accuracy, loss status for each epoch\n",
    "accuracy_stats = {\n",
    "    'train': [],\n",
    "    \"val\": []\n",
    "}\n",
    "loss_stats = {\n",
    "    'train': [],\n",
    "    \"val\": []\n",
    "}\n",
    "\n",
    "\n",
    "print(\"Begin training.\")\n",
    "best_vloss = 1000000\n",
    "timestamp = datetime.now().strftime('%Y%m%d_%H%M%S')\n",
    "# Train Network\n",
    "for epoch in range(num_epochs):\n",
    "    \n",
    "    # train model\n",
    "    train_epoch_loss = 0\n",
    "    train_epoch_acc = 0\n",
    "    model.train()\n",
    "    for batch_idx, (data, targets) in enumerate(tqdm(train_loader)):\n",
    "        # Get data to cuda if possible\n",
    "        data = data.to(device=device)\n",
    "        targets = targets.to(device=device)\n",
    "\n",
    "        # Get to correct shape\n",
    "        #data = data.reshape(data.shape[0], -1)\n",
    "\n",
    "        # Forward\n",
    "        y_train_pred = model(data)\n",
    "        \n",
    "        # train_loss, train_acc per batch\n",
    "        train_loss = criterion(y_train_pred, targets) \n",
    "        train_acc  = (y_train_pred.argmax(1) == targets).float().sum() / len(targets)\n",
    "        \n",
    "        # Backward\n",
    "        optimizer.zero_grad()\n",
    "        train_loss.backward()\n",
    "\n",
    "        # Gradient descent or adam step\n",
    "        optimizer.step()\n",
    "\n",
    "        train_epoch_loss += train_loss.item()   \n",
    "        train_epoch_acc += train_acc.item()\n",
    "        \n",
    "\n",
    "\n",
    "    # validate model\n",
    "    with torch.no_grad():\n",
    "        val_epoch_loss = 0\n",
    "        val_epoch_acc = 0\n",
    "        \n",
    "        model.eval()\n",
    "        for i, vdata in enumerate(val_loader):\n",
    "            vinputs, vlabels = vdata\n",
    "            voutputs = model(vinputs)\n",
    "            val_loss = criterion(voutputs, vlabels)\n",
    "            val_acc = (voutputs.argmax(1) == vlabels).float().sum() / len(vlabels)\n",
    "            \n",
    "            val_epoch_loss += val_loss.item()\n",
    "            val_epoch_acc += val_acc.item()\n",
    "    avg_vloss = val_epoch_loss/len(val_loader)\n",
    "\n",
    "\n",
    "    # save the accuracy and loss for each epoch   \n",
    "    loss_stats['train'].append(train_epoch_loss/len(train_loader))\n",
    "    loss_stats['val'].append(val_epoch_loss/len(val_loader))\n",
    "    accuracy_stats['train'].append(train_epoch_acc/len(train_loader))\n",
    "    accuracy_stats['val'].append(val_epoch_acc/len(val_loader))\n",
    "    \n",
    "    # Track best performance, and save the model's state\n",
    "    if avg_vloss < best_vloss:\n",
    "        best_vloss = avg_vloss\n",
    "        model_path = '../surrogate_model/surrogate_DNN_model/surrogateDNN_model_{}_{}'.format(timestamp, epoch) # target_model\\target_DNN_model\\binaryclass\n",
    "        torch.save(model.state_dict(), model_path)                           \n",
    "        torch.save(model, model_path + '.pth')    \n",
    "        \n",
    "    print(f'Epoch {epoch + 1}: | Train Loss: {train_epoch_loss/len(train_loader):.5f} | Val Loss: {val_epoch_loss/len(val_loader):.5f} | Train Acc: {train_epoch_acc/len(train_loader):.4f}| Val Acc: {val_epoch_acc/len(val_loader):.4f}')\n",
    "\n",
    "        \n",
    "\n",
    "# Check accuracy on training & test to see how good our model\n",
    "def check_accuracy(loader, model):\n",
    "    \"\"\"\n",
    "    Check accuracy of our trained model given a loader and a model\n",
    "\n",
    "    Parameters:\n",
    "        loader: torch.utils.data.DataLoader\n",
    "            A loader for the dataset you want to check accuracy on\n",
    "        model: nn.Module\n",
    "            The model you want to check accuracy on\n",
    "\n",
    "    Returns:\n",
    "        acc: float\n",
    "            The accuracy of the model on the dataset given by the loader\n",
    "    \"\"\"\n",
    "\n",
    "    num_correct = 0\n",
    "    num_samples = 0\n",
    "    model.eval()\n",
    "\n",
    "    # We don't need to keep track of gradients here so we wrap it in torch.no_grad()\n",
    "    with torch.no_grad():\n",
    "        # Loop through the data\n",
    "        for x, y in loader:\n",
    "\n",
    "            # Move data to device\n",
    "            x = x.to(device=device)\n",
    "            y = y.to(device=device)\n",
    "\n",
    "            # Get to correct shape\n",
    "           # x = x.reshape(x.shape[0], -1)\n",
    "\n",
    "            # Forward pass\n",
    "            scores = model(x)\n",
    "            _, predictions = scores.max(1)\n",
    "\n",
    "            # Check how many we got correct\n",
    "            num_correct += (predictions == y).sum()\n",
    "\n",
    "            # Keep track of number of samples\n",
    "            num_samples += predictions.size(0)\n",
    "\n",
    "    model.train()\n",
    "    return num_correct / num_samples\n",
    "\n",
    "\n",
    "# Check accuracy on training & test to see how good our model\n",
    "print(f\"Accuracy on training set: {check_accuracy(train_loader, model)*100:.2f}\")\n",
    "print(f\"Accuracy on test set: {check_accuracy(test_loader, model)*100:.2f}\")\n"
   ]
  },
  {
   "cell_type": "code",
   "execution_count": 11,
   "metadata": {},
   "outputs": [
    {
     "name": "stdout",
     "output_type": "stream",
     "text": [
      "    epochs variable     value\n",
      "0        0    train  0.866184\n",
      "1        1    train  0.886401\n",
      "2        2    train  0.888859\n",
      "3        3    train  0.890590\n",
      "4        4    train  0.893060\n",
      "..     ...      ...       ...\n",
      "95      45      val  0.935541\n",
      "96      46      val  0.936164\n",
      "97      47      val  0.938862\n",
      "98      48      val  0.941976\n",
      "99      49      val  0.943430\n",
      "\n",
      "[100 rows x 3 columns]\n",
      "    epochs variable     value\n",
      "0        0    train  0.380250\n",
      "1        1    train  0.346591\n",
      "2        2    train  0.339323\n",
      "3        3    train  0.333611\n",
      "4        4    train  0.326202\n",
      "..     ...      ...       ...\n",
      "95      45      val  0.183556\n",
      "96      46      val  0.185041\n",
      "97      47      val  0.179264\n",
      "98      48      val  0.175236\n",
      "99      49      val  0.176504\n",
      "\n",
      "[100 rows x 3 columns]\n"
     ]
    },
    {
     "data": {
      "image/png": "[encoded data removed]",
      "text/plain": [
       "<Figure size 2000x700 with 2 Axes>"
      ]
     },
     "metadata": {},
     "output_type": "display_data"
    }
   ],
   "source": [
    "# Draw the plot\n",
    "draw_plot(accuracy_stats, loss_stats)"
   ]
  },
  {
   "cell_type": "code",
   "execution_count": 12,
   "metadata": {},
   "outputs": [],
   "source": [
    "# test the model\n",
    "\n",
    "def test_model(loader, model):\n",
    "    y_pred_list = []\n",
    "    with torch.no_grad():\n",
    "        model.eval()\n",
    "        for X_batch, _ in loader:\n",
    "            X_batch = X_batch.to(device)\n",
    "            y_test_pred = model(X_batch)\n",
    "            _, y_pred_tags = torch.max(y_test_pred, dim = 1)\n",
    "            #print(_, y_pred_tags.cpu().numpy())\n",
    "            y_pred_list.append(y_pred_tags.cpu().numpy())\n",
    "    y_pred_list = [a.squeeze().tolist() for a in y_pred_list]\n",
    "    return y_pred_list\n",
    "\n",
    "y_pred_list = test_model(test_loader, model)"
   ]
  },
  {
   "cell_type": "code",
   "execution_count": 13,
   "metadata": {},
   "outputs": [
    {
     "name": "stdout",
     "output_type": "stream",
     "text": [
      "accuracy of test data:  0.9451110649782022\n",
      "              precision    recall  f1-score   support\n",
      "\n",
      "      Benign     0.9435    0.9853    0.9639     17930\n",
      "   Malicious     0.9508    0.8281    0.8852      6155\n",
      "\n",
      "    accuracy                         0.9451     24085\n",
      "   macro avg     0.9471    0.9067    0.9246     24085\n",
      "weighted avg     0.9454    0.9451    0.9438     24085\n",
      "\n"
     ]
    }
   ],
   "source": [
    "# test accuracy\n",
    "from sklearn.metrics import accuracy_score, classification_report, confusion_matrix\n",
    "print(\"accuracy of test data: \", accuracy_score(y_test_dt_predicted, y_pred_list))\n",
    "print(classification_report(y_test_dt_predicted, y_pred_list, target_names=['Benign', 'Malicious'], digits=4))"
   ]
  },
  {
   "cell_type": "code",
   "execution_count": 20,
   "metadata": {},
   "outputs": [
    {
     "data": {
      "image/png": "[encoded data removed]",
      "text/plain": [
       "<Figure size 800x500 with 2 Axes>"
      ]
     },
     "metadata": {},
     "output_type": "display_data"
    }
   ],
   "source": [
    "# draw confusion matrix\n",
    "draw_confusion_matrix(y_test_dt_predicted, y_pred_list, model, 'DNN', 'Decision Tree')"
   ]
  }
 ],
 "metadata": {
  "kernelspec": {
   "display_name": "Python 3",
   "language": "python",
   "name": "python3"
  },
  "language_info": {
   "codemirror_mode": {
    "name": "ipython",
    "version": 3
   },
   "file_extension": ".py",
   "mimetype": "text/x-python",
   "name": "python",
   "nbconvert_exporter": "python",
   "pygments_lexer": "ipython3",
   "version": "3.9.18"
  }
 },
 "nbformat": 4,
 "nbformat_minor": 2
}
